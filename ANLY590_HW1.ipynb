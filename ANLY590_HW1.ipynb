{
 "cells": [
  {
   "cell_type": "markdown",
   "metadata": {},
   "source": [
    "# ANLY 590 HW1 \n",
    "###  Prerna Kaul"
   ]
  },
  {
   "cell_type": "code",
   "execution_count": 91,
   "metadata": {},
   "outputs": [],
   "source": [
    "import matplotlib.pyplot as plt\n",
    "import numpy as np\n",
    "import pandas as pd\n",
    "\n",
    "from sklearn.linear_model import Lasso\n",
    "from sklearn.linear_model import Ridge\n",
    "from sklearn.linear_model import LassoCV\n",
    "from sklearn.linear_model import RidgeCV\n",
    "from sklearn.linear_model import LinearRegression\n",
    "from sklearn.model_selection import train_test_split"
   ]
  },
  {
   "cell_type": "markdown",
   "metadata": {},
   "source": [
    "## Q 1.1"
   ]
  },
  {
   "cell_type": "code",
   "execution_count": 44,
   "metadata": {},
   "outputs": [
    {
     "data": {
      "text/html": [
       "<div>\n",
       "<style scoped>\n",
       "    .dataframe tbody tr th:only-of-type {\n",
       "        vertical-align: middle;\n",
       "    }\n",
       "\n",
       "    .dataframe tbody tr th {\n",
       "        vertical-align: top;\n",
       "    }\n",
       "\n",
       "    .dataframe thead th {\n",
       "        text-align: right;\n",
       "    }\n",
       "</style>\n",
       "<table border=\"1\" class=\"dataframe\">\n",
       "  <thead>\n",
       "    <tr style=\"text-align: right;\">\n",
       "      <th></th>\n",
       "      <th>AtBat</th>\n",
       "      <th>Hits</th>\n",
       "      <th>HmRun</th>\n",
       "      <th>Runs</th>\n",
       "      <th>RBI</th>\n",
       "      <th>Walks</th>\n",
       "      <th>Years</th>\n",
       "      <th>CAtBat</th>\n",
       "      <th>CHits</th>\n",
       "      <th>CHmRun</th>\n",
       "      <th>CRuns</th>\n",
       "      <th>CRBI</th>\n",
       "      <th>CWalks</th>\n",
       "      <th>PutOuts</th>\n",
       "      <th>Assists</th>\n",
       "      <th>Errors</th>\n",
       "      <th>Salary</th>\n",
       "    </tr>\n",
       "  </thead>\n",
       "  <tbody>\n",
       "    <tr>\n",
       "      <th>1</th>\n",
       "      <td>315</td>\n",
       "      <td>81</td>\n",
       "      <td>7</td>\n",
       "      <td>24</td>\n",
       "      <td>38</td>\n",
       "      <td>39</td>\n",
       "      <td>14</td>\n",
       "      <td>3449</td>\n",
       "      <td>835</td>\n",
       "      <td>69</td>\n",
       "      <td>321</td>\n",
       "      <td>414</td>\n",
       "      <td>375</td>\n",
       "      <td>632</td>\n",
       "      <td>43</td>\n",
       "      <td>10</td>\n",
       "      <td>475.0</td>\n",
       "    </tr>\n",
       "    <tr>\n",
       "      <th>2</th>\n",
       "      <td>479</td>\n",
       "      <td>130</td>\n",
       "      <td>18</td>\n",
       "      <td>66</td>\n",
       "      <td>72</td>\n",
       "      <td>76</td>\n",
       "      <td>3</td>\n",
       "      <td>1624</td>\n",
       "      <td>457</td>\n",
       "      <td>63</td>\n",
       "      <td>224</td>\n",
       "      <td>266</td>\n",
       "      <td>263</td>\n",
       "      <td>880</td>\n",
       "      <td>82</td>\n",
       "      <td>14</td>\n",
       "      <td>480.0</td>\n",
       "    </tr>\n",
       "    <tr>\n",
       "      <th>3</th>\n",
       "      <td>496</td>\n",
       "      <td>141</td>\n",
       "      <td>20</td>\n",
       "      <td>65</td>\n",
       "      <td>78</td>\n",
       "      <td>37</td>\n",
       "      <td>11</td>\n",
       "      <td>5628</td>\n",
       "      <td>1575</td>\n",
       "      <td>225</td>\n",
       "      <td>828</td>\n",
       "      <td>838</td>\n",
       "      <td>354</td>\n",
       "      <td>200</td>\n",
       "      <td>11</td>\n",
       "      <td>3</td>\n",
       "      <td>500.0</td>\n",
       "    </tr>\n",
       "    <tr>\n",
       "      <th>4</th>\n",
       "      <td>321</td>\n",
       "      <td>87</td>\n",
       "      <td>10</td>\n",
       "      <td>39</td>\n",
       "      <td>42</td>\n",
       "      <td>30</td>\n",
       "      <td>2</td>\n",
       "      <td>396</td>\n",
       "      <td>101</td>\n",
       "      <td>12</td>\n",
       "      <td>48</td>\n",
       "      <td>46</td>\n",
       "      <td>33</td>\n",
       "      <td>805</td>\n",
       "      <td>40</td>\n",
       "      <td>4</td>\n",
       "      <td>91.5</td>\n",
       "    </tr>\n",
       "    <tr>\n",
       "      <th>5</th>\n",
       "      <td>594</td>\n",
       "      <td>169</td>\n",
       "      <td>4</td>\n",
       "      <td>74</td>\n",
       "      <td>51</td>\n",
       "      <td>35</td>\n",
       "      <td>11</td>\n",
       "      <td>4408</td>\n",
       "      <td>1133</td>\n",
       "      <td>19</td>\n",
       "      <td>501</td>\n",
       "      <td>336</td>\n",
       "      <td>194</td>\n",
       "      <td>282</td>\n",
       "      <td>421</td>\n",
       "      <td>25</td>\n",
       "      <td>750.0</td>\n",
       "    </tr>\n",
       "  </tbody>\n",
       "</table>\n",
       "</div>"
      ],
      "text/plain": [
       "   AtBat  Hits  HmRun  Runs  RBI  Walks  Years  CAtBat  CHits  CHmRun  CRuns  \\\n",
       "1    315    81      7    24   38     39     14    3449    835      69    321   \n",
       "2    479   130     18    66   72     76      3    1624    457      63    224   \n",
       "3    496   141     20    65   78     37     11    5628   1575     225    828   \n",
       "4    321    87     10    39   42     30      2     396    101      12     48   \n",
       "5    594   169      4    74   51     35     11    4408   1133      19    501   \n",
       "\n",
       "   CRBI  CWalks  PutOuts  Assists  Errors  Salary  \n",
       "1   414     375      632       43      10   475.0  \n",
       "2   266     263      880       82      14   480.0  \n",
       "3   838     354      200       11       3   500.0  \n",
       "4    46      33      805       40       4    91.5  \n",
       "5   336     194      282      421      25   750.0  "
      ]
     },
     "execution_count": 44,
     "metadata": {},
     "output_type": "execute_result"
    }
   ],
   "source": [
    "hitters = pd.read_csv(\"Hitters.csv\", sep = ',')\n",
    "\n",
    "hitters = hitters.dropna()\n",
    "#print(hitters.head())\n",
    "\n",
    "\n",
    "# removing non-numerical columns\n",
    "\n",
    "#print(hitters.dtypes)\n",
    "hitters = hitters.drop([\"Unnamed: 0\", \"League\", \"Division\", \"NewLeague\"], axis = 1)\n",
    "hitters.head()"
   ]
  },
  {
   "cell_type": "code",
   "execution_count": 89,
   "metadata": {},
   "outputs": [],
   "source": [
    "# data preparation\n",
    "X = hitters.drop([\"Salary\"], axis = 1)\n",
    "Y = hitters[\"Salary\"]\n",
    "\n",
    "# splitting the data into 70% train and 30% test\n",
    "X_train, X_test, y_train, y_test = train_test_split(X,Y, test_size = 0.3, random_state = 1001)\n"
   ]
  },
  {
   "cell_type": "code",
   "execution_count": 90,
   "metadata": {},
   "outputs": [
    {
     "data": {
      "image/png": "[encoded data removed]",
      "text/plain": [
       "<Figure size 432x288 with 1 Axes>"
      ]
     },
     "metadata": {
      "needs_background": "light"
     },
     "output_type": "display_data"
    },
    {
     "name": "stdout",
     "output_type": "stream",
     "text": [
      "Index(['Hits', 'CRuns', 'CRBI'], dtype='object')\n",
      "Index(['Hits', 'CRuns', 'CRBI'], dtype='object')\n",
      "Index(['Hits', 'CRuns', 'CRBI'], dtype='object')\n",
      "Index(['Hits', 'CRuns', 'CRBI'], dtype='object')\n",
      "Index(['Hits', 'CRuns', 'CRBI'], dtype='object')\n",
      "Index(['Hits', 'CRuns', 'CRBI'], dtype='object')\n",
      "Index(['Hits', 'CRuns', 'CRBI'], dtype='object')\n",
      "Index(['Hits', 'CRuns', 'CRBI'], dtype='object')\n",
      "Index(['Hits', 'CRuns', 'CRBI'], dtype='object')\n",
      "Index(['Hits', 'CRuns', 'CRBI'], dtype='object')\n"
     ]
    }
   ],
   "source": [
    "# lasso\n",
    "lasso = Lasso(max_iter = 10000, normalize = True)\n",
    "alphas = np.logspace(4, -0.5, 200)\n",
    "lasso_coefs = []\n",
    "\n",
    "# fitting lasso for different alpha values\n",
    "for alpha in alphas:\n",
    "    lasso.set_params(alpha=alpha)\n",
    "    lasso.fit(X_train,y_train)\n",
    "    lasso_coefs.append(lasso.coef_)\n",
    "\n",
    "# plotting coefficient trajectories\n",
    "ax = plt.gca()\n",
    "ax.plot(alphas, lasso_coefs)\n",
    "ax.set_xscale('log')\n",
    "plt.title('Coefficient Trajectories with Lasso')\n",
    "plt.xlabel('alpha')\n",
    "plt.ylabel('weights')\n",
    "plt.show()\n",
    "\n",
    "# to find last 3 coefficients\n",
    "for i in lasso_coefs:\n",
    "    while sum(i!=0) == 3: # 3 values True in i ==> 3 coefficients are present\n",
    "        print(X.columns[i!= 0])\n",
    "        break"
   ]
  },
  {
   "cell_type": "markdown",
   "metadata": {},
   "source": [
    "The final 3 variables in the model are: <b>Hits, CRuns and CRBI</b>"
   ]
  },
  {
   "cell_type": "code",
   "execution_count": 93,
   "metadata": {},
   "outputs": [
    {
     "name": "stdout",
     "output_type": "stream",
     "text": [
      "Optimal value for regularization penalty is: 1.9559527911543226\n"
     ]
    }
   ],
   "source": [
    "# lasso cv\n",
    "lasso_cv = LassoCV(cv = 10, max_iter = 10000, normalize = True)\n",
    "lasso_cv.fit(X_train,y_train)\n",
    "print(\"Optimal value for regularization penalty is:\", lasso_cv.alpha_)"
   ]
  },
  {
   "cell_type": "code",
   "execution_count": 102,
   "metadata": {},
   "outputs": [
    {
     "data": {
      "text/plain": [
       " 0.000000      AtBat\n",
       " 2.186071       Hits\n",
       " 0.000000      HmRun\n",
       " 0.000000       Runs\n",
       " 0.000000        RBI\n",
       " 0.926834      Walks\n",
       " 0.000000      Years\n",
       " 0.000000     CAtBat\n",
       " 0.000000      CHits\n",
       " 0.000000     CHmRun\n",
       " 0.080183      CRuns\n",
       " 0.467375       CRBI\n",
       " 0.000000     CWalks\n",
       " 0.077180    PutOuts\n",
       "-0.000000    Assists\n",
       "-0.000000     Errors\n",
       "dtype: object"
      ]
     },
     "execution_count": 102,
     "metadata": {},
     "output_type": "execute_result"
    }
   ],
   "source": [
    "pd.Series(X.columns, lasso_cv.coef_)"
   ]
  },
  {
   "cell_type": "markdown",
   "metadata": {},
   "source": [
    "The variables present in this model are: <b> Hits, Walks, CRBI and PutOuts </b>"
   ]
  },
  {
   "cell_type": "markdown",
   "metadata": {},
   "source": [
    "## Q 1.2"
   ]
  },
  {
   "cell_type": "code",
   "execution_count": 106,
   "metadata": {},
   "outputs": [
    {
     "data": {
      "image/png": "[encoded data removed]",
      "text/plain": [
       "<Figure size 432x288 with 1 Axes>"
      ]
     },
     "metadata": {
      "needs_background": "light"
     },
     "output_type": "display_data"
    }
   ],
   "source": [
    "# ridge\n",
    "ridge = Ridge(max_iter = 10000, normalize = True)\n",
    "ridge_coefs = []\n",
    "\n",
    "# fitting lasso for different alpha values\n",
    "for alpha in alphas:\n",
    "    ridge.set_params(alpha=alpha)\n",
    "    ridge.fit(X_train,y_train)\n",
    "    ridge_coefs.append(ridge.coef_)\n",
    "\n",
    "# plotting coefficient trajectories\n",
    "ax = plt.gca()\n",
    "ax.plot(alphas, ridge_coefs)\n",
    "ax.set_xscale('log')\n",
    "plt.title('Coefficient Trajectories with Ridge')\n",
    "plt.xlabel('alpha')\n",
    "plt.ylabel('weights')\n",
    "plt.show()"
   ]
  },
  {
   "cell_type": "code",
   "execution_count": 111,
   "metadata": {},
   "outputs": [
    {
     "name": "stdout",
     "output_type": "stream",
     "text": [
      "Optimal value for regularization penalty is: 1.0\n"
     ]
    },
    {
     "name": "stderr",
     "output_type": "stream",
     "text": [
      "C:\\Users\\Prerna Kaul\\Anaconda3\\lib\\site-packages\\sklearn\\model_selection\\_search.py:841: DeprecationWarning: The default of the `iid` parameter will change from True to False in version 0.22 and will be removed in 0.24. This will change numeric results when test-set sizes are unequal.\n",
      "  DeprecationWarning)\n"
     ]
    }
   ],
   "source": [
    "# ridge cv\n",
    "ridge_cv = RidgeCV(cv = 10, normalize = True)\n",
    "ridge_cv.fit(X_train,y_train)\n",
    "print(\"Optimal value for regularization penalty is:\", ridge_cv.alpha_)"
   ]
  },
  {
   "cell_type": "code",
   "execution_count": 112,
   "metadata": {},
   "outputs": [
    {
     "data": {
      "text/plain": [
       " 0.117394      AtBat\n",
       " 0.794863       Hits\n",
       " 0.775926      HmRun\n",
       " 0.879825       Runs\n",
       " 0.976122        RBI\n",
       " 0.995772      Walks\n",
       " 2.481704      Years\n",
       " 0.010258     CAtBat\n",
       " 0.049069      CHits\n",
       " 0.320753     CHmRun\n",
       " 0.092256      CRuns\n",
       " 0.104929       CRBI\n",
       " 0.043253     CWalks\n",
       " 0.087852    PutOuts\n",
       "-0.004078    Assists\n",
       "-1.332664     Errors\n",
       "dtype: object"
      ]
     },
     "execution_count": 112,
     "metadata": {},
     "output_type": "execute_result"
    }
   ],
   "source": [
    "pd.Series(X.columns, ridge_cv.coef_)"
   ]
  },
  {
   "cell_type": "markdown",
   "metadata": {},
   "source": [
    "## Q 2"
   ]
  },
  {
   "cell_type": "markdown",
   "metadata": {},
   "source": [
    "Ideal models are supposed to have low bias and low variance. But having both of these conditions at the same time is not possible.Models can either have low bias and high variance or they can have high bias and low variance. There is a trade off between the two. Models with high bias like linear regression will have low variance and there are chances of underfitting the data, whereas models having large variance are highly flexible and hence there are chances of overfitting."
   ]
  },
  {
   "cell_type": "markdown",
   "metadata": {},
   "source": [
    "Sometimes, there are too many explanatory variables in the model and some variables may be useless and will likely lead to overfitting problem. Regularization can help reduce number of variables in the model, like lasso forces the coefficients of some variables to become zero in Q1 above. Thus it will reduce variance of the model but at the same time increase bias. For large values of penalty factor the model results into a low variance-highly biased model."
   ]
  },
  {
   "cell_type": "code",
   "execution_count": null,
   "metadata": {},
   "outputs": [],
   "source": []
  }
 ],
 "metadata": {
  "kernelspec": {
   "display_name": "Python 3",
   "language": "python",
   "name": "python3"
  },
  "language_info": {
   "codemirror_mode": {
    "name": "ipython",
    "version": 3
   },
   "file_extension": ".py",
   "mimetype": "text/x-python",
   "name": "python",
   "nbconvert_exporter": "python",
   "pygments_lexer": "ipython3",
   "version": "3.6.7"
  }
 },
 "nbformat": 4,
 "nbformat_minor": 2
}
